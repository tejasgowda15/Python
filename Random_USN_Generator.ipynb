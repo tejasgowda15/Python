{
 "cells": [
  {
   "cell_type": "code",
   "execution_count": 8,
   "id": "c2131c0f",
   "metadata": {},
   "outputs": [
    {
     "ename": "SyntaxError",
     "evalue": "invalid syntax (1001211079.py, line 45)",
     "output_type": "error",
     "traceback": [
      "\u001b[1;36m  Cell \u001b[1;32mIn[8], line 45\u001b[1;36m\u001b[0m\n\u001b[1;33m    else:\u001b[0m\n\u001b[1;37m    ^\u001b[0m\n\u001b[1;31mSyntaxError\u001b[0m\u001b[1;31m:\u001b[0m invalid syntax\n"
     ]
    }
   ],
   "source": [
    "# Function call\n",
    "def gen_random_num():\n",
    "    import random as rd\n",
    "    num = rd.randint(1,100)\n",
    "    return num\n",
    "yr = int(input(\"On which year did you join this college \"))\n",
    "print(\"Was it in 20\" + str(yr))\n",
    "confirm = input(\"Y for yes | N for no \")\n",
    "if confirm == \"N\":\n",
    "    print(\"Do you want to enter the year again\")\n",
    "    confirm_yr = input(\"Y for yes | N for no \")\n",
    "    if confirm_yr == \"Y\":\n",
    "        yr = int(input(\"Enter your year again\"))\n",
    "    print(\"Which branch are you studying in ? \\n\")\n",
    "    print(\"For Aeronautical - 'AE' \\n\")\n",
    "    print(\" Electronics and Communication - 'EC' \\n\")\n",
    "    print(\" Artificial Intelligence and Data Science - 'AD' \\n\")\n",
    "    print(\" Artificial Intelligence and Machine Learning - 'ML' \\n\")\n",
    "    print(\" Electronics and Electrical Engineering - 'EE' \\n\")\n",
    "    print(\" Computer Science and Engineering - 'CS' \\n\")\n",
    "    print(\" Information Science and Engineering - 'IS' \\n\")\n",
    "    print(\" Civil Engineering - 'CV' \\n\")\n",
    "    print(\" Mechanical Engineering - 'ME' \\n\")\n",
    "    branch = input()\n",
    "    if branch == \"AE\":\n",
    "        print(\"Your branch is Aeronautical \")\n",
    "    elif branch == \"EC\":\n",
    "        print(\"Your branch is Electronics and Communication\")\n",
    "    elif branch == \"AD\":\n",
    "        print(\"Your branch is Artificial Intelligence and Data Science\")\n",
    "    elif branch == \"ML\":\n",
    "        print(\"Your branch is Artificial Intelligence and Machine Learning\")\n",
    "    elif branch == \"EE\":\n",
    "        print(\"Your branch is Electronics and Electrical Engineering\")\n",
    "    elif branch == \"CS\":\n",
    "        print(\"Your branch is Computer Science and Engineering\")\n",
    "    elif branch == \"IS\":\n",
    "        print(\"Your branch is Information Science and Engineering\")\n",
    "    elif branch == \"CV\":\n",
    "        print(\"Your branch is Civil Engineering\")\n",
    "    elif branch == \"ME\":\n",
    "        print(\"Your branch is Mechanical Engineering\")\n",
    "    a = gen_random_num()\n",
    "    print(\"Your USN is 1NT\" + str(yr) + branch +\"0\" +str(a) )\n",
    "else:\n",
    "    print(\"Which branch are you studying in ? \\n\")\n",
    "    print(\"For Aeronautical - 'AE' \\n\")\n",
    "    print(\" Electronics and Communication - 'EC' \\n\")\n",
    "    print(\" Artificial Intelligence and Data Science - 'AD' \\n\")\n",
    "    print(\" Artificial Intelligence and Machine Learning - 'ML' \\n\")\n",
    "    print(\" Electronics and Electrical Engineering - 'EE' \\n\")\n",
    "    print(\" Computer Science and Engineering - 'CS' \\n\")\n",
    "    print(\" Information Science and Engineering - 'IS' \\n\")\n",
    "    print(\" Civil Engineering - 'CV' \\n\")\n",
    "    print(\" Mechanical Engineering - 'ME' \\n\")\n",
    "    branch = input(\"Enter your branch \")\n",
    "    if branch == \"AE\":\n",
    "        print(\"Your branch is Aeronautical \")\n",
    "    elif branch == \"EC\":\n",
    "        print(\"Your branch is Electronics and Communication\")\n",
    "    elif branch == \"AD\":\n",
    "        print(\"Your branch is Artificial Intelligence and Data Science\")\n",
    "    elif branch == \"ML\":\n",
    "        print(\"Your branch is Artificial Intelligence and Machine Learning\")\n",
    "    elif branch == \"EE\":\n",
    "        print(\"Your branch is Electronics and Electrical Engineering\")\n",
    "    elif branch == \"CS\":\n",
    "        print(\"Your branch is Computer Science and Engineering\")\n",
    "    elif branch == \"IS\":\n",
    "        print(\"Your branch is Information Science and Engineering\")\n",
    "    elif branch == \"CV\":\n",
    "        print(\"Your branch is Civil Engineering\")\n",
    "    elif branch == \"ME\":\n",
    "        print(\"Your branch is Mechanical Engineering\")\n",
    "    a = gen_random_num()\n",
    "    print(\"Your USN is 1NT\" + str(yr) + branch +\"0\" +str(a) )"
   ]
  },
  {
   "cell_type": "code",
   "execution_count": null,
   "id": "cd45798c",
   "metadata": {},
   "outputs": [],
   "source": []
  }
 ],
 "metadata": {
  "kernelspec": {
   "display_name": "Python 3 (ipykernel)",
   "language": "python",
   "name": "python3"
  },
  "language_info": {
   "codemirror_mode": {
    "name": "ipython",
    "version": 3
   },
   "file_extension": ".py",
   "mimetype": "text/x-python",
   "name": "python",
   "nbconvert_exporter": "python",
   "pygments_lexer": "ipython3",
   "version": "3.10.9"
  }
 },
 "nbformat": 4,
 "nbformat_minor": 5
}
